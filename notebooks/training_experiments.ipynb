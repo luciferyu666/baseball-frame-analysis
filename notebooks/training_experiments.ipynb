{
 "cells": [
  {
   "cell_type": "markdown",
   "id": "1c2bf035",
   "metadata": {},
   "source": [
    "# Training Experiments Analysis"
   ]
  },
  {
   "cell_type": "markdown",
   "id": "1ea0f859",
   "metadata": {},
   "source": [
    "## Comparison of Retrained YOLO Performance"
   ]
  },
  {
   "cell_type": "code",
   "execution_count": null,
   "id": "05f053d0",
   "metadata": {},
   "outputs": [],
   "source": [
    "import pandas as pd\n",
    "import matplotlib.pyplot as plt\n",
    "from pathlib import Path\n",
    "\n",
    "# Load metrics\n",
    "runs_dir = Path(\"../mlruns/0/runs\")\n",
    "run_id = next(runs_dir.iterdir()).name\n",
    "metrics_dir = runs_dir / run_id / \"metrics\"\n",
    "acc = [float(line.split()[1]) for line in (metrics_dir/\"accuracy\").read_text().splitlines()]\n",
    "loss = [float(line.split()[1]) for line in (metrics_dir/\"loss\").read_text().splitlines()]\n",
    "epochs = list(range(len(acc)))\n",
    "\n",
    "df = pd.DataFrame({\"epoch\": epochs, \"accuracy\": acc, \"loss\": loss})\n",
    "df"
   ]
  },
  {
   "cell_type": "code",
   "execution_count": null,
   "id": "0a19f1fa",
   "metadata": {},
   "outputs": [],
   "source": [
    "# Plot both metrics\n",
    "plt.figure()\n",
    "plt.plot(df['epoch'], df['accuracy'], label='Accuracy')\n",
    "plt.plot(df['epoch'], df['loss'], label='Loss')\n",
    "plt.title(\"Accuracy and Loss over Epochs\")\n",
    "plt.xlabel(\"Epoch\")\n",
    "plt.legend()\n",
    "plt.show()"
   ]
  },
  {
   "cell_type": "markdown",
   "id": "9db7bbab",
   "metadata": {},
   "source": [
    "### Observations\n",
    "- Accuracy increases over epochs.\n",
    "- Loss decreases correspondingly.\n",
    "\n",
    "This suggests effective retraining of the YOLO model."
   ]
  }
 ],
 "metadata": {},
 "nbformat": 4,
 "nbformat_minor": 5
}
