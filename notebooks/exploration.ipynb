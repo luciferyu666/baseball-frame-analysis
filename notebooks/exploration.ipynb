{
 "cells": [
  {
   "cell_type": "markdown",
   "id": "7d1d1120",
   "metadata": {},
   "source": [
    "# Exploration of Frame Intervals and Metrics"
   ]
  },
  {
   "cell_type": "code",
   "execution_count": null,
   "id": "521666c3",
   "metadata": {},
   "outputs": [],
   "source": [
    "import json\n",
    "import pandas as pd\n",
    "from pathlib import Path\n",
    "\n",
    "# Load frame data\n",
    "path = Path(\"../data/outputs/json/sample_frames.json\")\n",
    "data = json.loads(path.read_text())\n",
    "df = pd.DataFrame(data)\n",
    "df['interval_ms'] = df['timestamp_ms'].diff()\n",
    "\n",
    "df.head()"
   ]
  },
  {
   "cell_type": "code",
   "execution_count": null,
   "id": "dba27f88",
   "metadata": {},
   "outputs": [],
   "source": [
    "# Plot interval distribution\n",
    "import matplotlib.pyplot as plt\n",
    "\n",
    "plt.figure()\n",
    "df['interval_ms'].hist(bins=10)\n",
    "plt.title(\"Frame Interval Distribution (ms)\")\n",
    "plt.xlabel(\"Interval (ms)\")\n",
    "plt.ylabel(\"Frequency\")\n",
    "plt.show()"
   ]
  },
  {
   "cell_type": "code",
   "execution_count": null,
   "id": "cb25a5d5",
   "metadata": {},
   "outputs": [],
   "source": [
    "# Plot frame interval over time\n",
    "plt.figure()\n",
    "plt.plot(df['frame_id'], df['timestamp_ms'], marker='o')\n",
    "plt.title(\"Timestamp vs Frame ID\")\n",
    "plt.xlabel(\"Frame ID\")\n",
    "plt.ylabel(\"Timestamp (ms)\")\n",
    "plt.show()"
   ]
  },
  {
   "cell_type": "code",
   "execution_count": null,
   "id": "75a929cb",
   "metadata": {},
   "outputs": [],
   "source": [
    "# Load training metrics from MLflow\n",
    "import os\n",
    "\n",
    "# Find first run directory\n",
    "runs_dir = Path(\"../mlruns/0/runs\")\n",
    "run_id = next(runs_dir.iterdir()).name\n",
    "metrics_dir = runs_dir / run_id / \"metrics\"\n",
    "acc_file = metrics_dir / \"accuracy\"\n",
    "loss_file = metrics_dir / \"loss\"\n",
    "\n",
    "# Read metrics\n",
    "acc = [float(line.split()[1]) for line in acc_file.read_text().splitlines()]\n",
    "loss = [float(line.split()[1]) for line in loss_file.read_text().splitlines()]\n",
    "epochs = list(range(len(acc)))\n",
    "\n",
    "df_metrics = pd.DataFrame({\"epoch\": epochs, \"accuracy\": acc, \"loss\": loss})\n",
    "df_metrics"
   ]
  },
  {
   "cell_type": "code",
   "execution_count": null,
   "id": "dea54725",
   "metadata": {},
   "outputs": [],
   "source": [
    "# Plot accuracy over epochs\n",
    "plt.figure()\n",
    "plt.plot(df_metrics['epoch'], df_metrics['accuracy'], marker='x')\n",
    "plt.title(\"Training Accuracy over Epochs\")\n",
    "plt.xlabel(\"Epoch\")\n",
    "plt.ylabel(\"Accuracy\")\n",
    "plt.show()"
   ]
  },
  {
   "cell_type": "code",
   "execution_count": null,
   "id": "74fc0872",
   "metadata": {},
   "outputs": [],
   "source": [
    "# Plot loss over epochs\n",
    "plt.figure()\n",
    "plt.plot(df_metrics['epoch'], df_metrics['loss'], marker='x')\n",
    "plt.title(\"Training Loss over Epochs\")\n",
    "plt.xlabel(\"Epoch\")\n",
    "plt.ylabel(\"Loss\")\n",
    "plt.show()"
   ]
  }
 ],
 "metadata": {},
 "nbformat": 4,
 "nbformat_minor": 5
}
